{
 "cells": [
  {
   "cell_type": "markdown",
   "id": "689a684f-2b48-439a-a260-030460504f2e",
   "metadata": {},
   "source": [
    "# Data Science Tools and Ecosystem"
   ]
  },
  {
   "cell_type": "markdown",
   "id": "513d6226-222e-4feb-81ca-2143f543fff8",
   "metadata": {},
   "source": [
    "In this notebook, Data Science Tools and Ecosystem are summarized."
   ]
  },
  {
   "cell_type": "markdown",
   "id": "fdadda29-3e6b-423f-835a-d0b8bb16861f",
   "metadata": {},
   "source": [
    "Some of the popular languages that Data Scientists use are:\n",
    "1. Python\n",
    "2. C++\n",
    "3. R"
   ]
  },
  {
   "cell_type": "markdown",
   "id": "2ebabdb7-c0f1-4f14-b8d5-3c6fdee0beeb",
   "metadata": {},
   "source": [
    "Some of the commonly used libraries used by Data Scientists include:\n",
    "1. ggplot\n",
    "2. pandas\n",
    "3. sckit-learn"
   ]
  },
  {
   "cell_type": "markdown",
   "id": "722e81c4-ec9a-4b71-aa55-3cafd8af40c0",
   "metadata": {},
   "source": [
    "| Data Science Tools |\n",
    "|-------------------|\n",
    "| Jupyter Notebook  |\n",
    "| RStudio           |\n",
    "| Apache Spark      |"
   ]
  },
  {
   "cell_type": "markdown",
   "id": "60fe4886-5ff8-45e8-8bd3-20810585133a",
   "metadata": {},
   "source": [
    "### Below are a few examples of evaluating arithmetic expressions in Python"
   ]
  },
  {
   "cell_type": "code",
   "execution_count": 3,
   "id": "54e5e20f-8ac6-4a6a-9005-baa03bafe2df",
   "metadata": {},
   "outputs": [
    {
     "data": {
      "text/plain": [
       "17"
      ]
     },
     "execution_count": 3,
     "metadata": {},
     "output_type": "execute_result"
    }
   ],
   "source": [
    "#This a simple arithmetic expression to mutiply then add integers.\n",
    "(3*4)+5"
   ]
  },
  {
   "cell_type": "code",
   "execution_count": 4,
   "id": "f91f5d72-afd9-422f-a6fa-66d226317ae0",
   "metadata": {},
   "outputs": [
    {
     "data": {
      "text/plain": [
       "3.3333333333333335"
      ]
     },
     "execution_count": 4,
     "metadata": {},
     "output_type": "execute_result"
    }
   ],
   "source": [
    "# This will convert 200 minutes to hours by dividing by 60\n",
    "minutes = 200\n",
    "hours = minutes / 60\n",
    "hours"
   ]
  },
  {
   "cell_type": "markdown",
   "id": "48eeea18-b644-43e6-9fce-550fb8bc7cc4",
   "metadata": {},
   "source": [
    "**Objectives:**\n",
    "\n",
    "- List popular languages for Data Science\n",
    "- Understand the basics of Jupyter Notebook\n",
    "- Explore version control with Git and GitHub\n",
    "- Introduce basic arithmetic operations in Python\n",
    "- Familiarize with common Data Science tools and environments"
   ]
  },
  {
   "cell_type": "markdown",
   "id": "547d22c6-8808-41f5-97d7-99eb8b889633",
   "metadata": {},
   "source": [
    "## Author\n",
    "kevin"
   ]
  },
  {
   "cell_type": "code",
   "execution_count": null,
   "id": "f378381d-e5a3-403c-a9f7-51659c975222",
   "metadata": {},
   "outputs": [],
   "source": []
  }
 ],
 "metadata": {
  "kernelspec": {
   "display_name": "Python 3 (ipykernel)",
   "language": "python",
   "name": "python3"
  },
  "language_info": {
   "codemirror_mode": {
    "name": "ipython",
    "version": 3
   },
   "file_extension": ".py",
   "mimetype": "text/x-python",
   "name": "python",
   "nbconvert_exporter": "python",
   "pygments_lexer": "ipython3",
   "version": "3.11.7"
  }
 },
 "nbformat": 4,
 "nbformat_minor": 5
}
